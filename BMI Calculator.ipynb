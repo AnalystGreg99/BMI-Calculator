{
 "cells": [
  {
   "cell_type": "raw",
   "id": "7c3b8f77-fb7e-4bab-bbeb-98afd943aab0",
   "metadata": {},
   "source": [
    "#BMI CALCULATOR\n",
    "#Using height in inches and weight in pounds\n",
    "Name = input('Name:')\n",
    "input('Age:' )\n",
    "weight = float(input('Enter your weight in pounds: '))\n",
    "height = float(input('Enter your height in inches: '))\n",
    "BMI =  (weight * 703)/(height**2)\n",
    "#print(BMI)\n",
    "if BMI>0:\n",
    "    if BMI < 16:\n",
    "        print(Name + ', you are  severely thin')\n",
    "    elif BMI <= 16.9:\n",
    "        print (Name + ', you are moderately thin')\n",
    "    elif BMI <= 18.4:\n",
    "        print (Name + ', you are mildly thin')\n",
    "    elif BMI <= 24.9:\n",
    "        print (Name + ', Normal')\n",
    "    elif BMI <= 29.9:\n",
    "        print (Name + ', you are overweight')\n",
    "    elif BMI <= 34.9:\n",
    "        print (Name + ', you are Obese Class I')\n",
    "    elif BMI <= 39.9:\n",
    "        print (Name + ', you are Obese Class II')\n",
    "    elif BMI >= 40:\n",
    "        print (Name + ', you are Obese Class III')\n",
    "    else: print(\"Enter valid detail\")\n",
    "\n",
    "                \n"
   ]
  },
  {
   "cell_type": "code",
   "execution_count": 22,
   "id": "19f89cbc-889d-4b55-ab9d-ff453002fc40",
   "metadata": {
    "tags": []
   },
   "outputs": [
    {
     "name": "stdin",
     "output_type": "stream",
     "text": [
      "Name: chinedum\n"
     ]
    }
   ],
   "source": [
    "Classification\tBMI range - kg/m2\n",
    "Severe Thinness\t< 16\n",
    "Moderate Thinness\t16 - 17\n",
    "Mild Thinness\t17 - 18.5\n",
    "Normal\t18.5 - 25\n",
    "Overweight\t25 - 30\n",
    "Obese Class I\t30 - 35\n",
    "Obese Class II\t35 - 40\n",
    "Obese Class III\t> 40"
   ]
  },
  {
   "cell_type": "code",
   "execution_count": 55,
   "id": "a644c86c-48d5-4d1d-bf1f-163af6adedcf",
   "metadata": {
    "tags": []
   },
   "outputs": [
    {
     "name": "stdin",
     "output_type": "stream",
     "text": [
      "Enter Your Name:  Collins\n",
      "Enter height in centimeters:  182\n",
      "Enter Weight in Kilograms:  82\n"
     ]
    },
    {
     "name": "stdout",
     "output_type": "stream",
     "text": [
      "Collins, your BMI is: 24.752859396997316\n",
      "Collins, Normal\n"
     ]
    }
   ],
   "source": [
    "def BMI_cal_fun(Weight, Height):\n",
    "    height_inches = Height * 0.3937\n",
    "    weight_pounds = Weight * 2.2046\n",
    "    BMI = (weight_pounds * 703)/(height_inches**2)\n",
    "    return BMI\n",
    "\n",
    "Name = input('Enter Your Name: ')\n",
    "Height = float(input('Enter height in centimeters: ')) \n",
    "Weight = float(input('Enter Weight in Kilograms: '))\n",
    "BMI = BMI_cal_fun(Weight, Height)\n",
    "print(f\"{Name}, your BMI is: {BMI}\")\n",
    "if BMI>0:\n",
    "    if BMI < 16:\n",
    "        print(Name + ', you are  severely thin')\n",
    "    elif BMI <= 16.9:\n",
    "        print (Name + ', you are moderately thin')\n",
    "    elif BMI <= 18.4:\n",
    "        print (Name + ', you are mildly thin')\n",
    "    elif BMI <= 24.9:\n",
    "        print (Name + ', Normal')\n",
    "    elif BMI <= 29.9:\n",
    "        print (Name + ', you are overweight')\n",
    "    elif BMI <= 34.9:\n",
    "        print (Name + ', you are Obese Class I')\n",
    "    elif BMI <= 39.9:\n",
    "        print (Name + ', you are Obese Class II')\n",
    "    elif BMI >= 40:\n",
    "        print (Name + ', you are Obese Class III')\n",
    "    else: print(\"Enter valid detail\")\n"
   ]
  },
  {
   "cell_type": "code",
   "execution_count": null,
   "id": "f560de14-f63e-4fda-910a-1198b20e7870",
   "metadata": {},
   "outputs": [],
   "source": []
  },
  {
   "cell_type": "code",
   "execution_count": null,
   "id": "a667945c-3a7f-4e5f-ba4e-f521d8cd5ad9",
   "metadata": {},
   "outputs": [],
   "source": [
    "\n"
   ]
  }
 ],
 "metadata": {
  "kernelspec": {
   "display_name": "Python 3 (ipykernel)",
   "language": "python",
   "name": "python3"
  },
  "language_info": {
   "codemirror_mode": {
    "name": "ipython",
    "version": 3
   },
   "file_extension": ".py",
   "mimetype": "text/x-python",
   "name": "python",
   "nbconvert_exporter": "python",
   "pygments_lexer": "ipython3",
   "version": "3.11.3"
  }
 },
 "nbformat": 4,
 "nbformat_minor": 5
}
