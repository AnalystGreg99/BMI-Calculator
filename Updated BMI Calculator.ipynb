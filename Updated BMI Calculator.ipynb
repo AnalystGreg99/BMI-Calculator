{
 "cells": [
  {
   "cell_type": "code",
   "execution_count": 1,
   "id": "395c17b2",
   "metadata": {},
   "outputs": [
    {
     "name": "stdout",
     "output_type": "stream",
     "text": [
      "Enter your name: Michael Kaiser\n",
      "Enter your height in centimeters: 196\n",
      "Enter your weight in kilograms: 80\n",
      "Michael Kaiser, your BMI is: 20.82246509752387\n",
      "Michael Kaiser, you are Normal\n"
     ]
    }
   ],
   "source": [
    "def calculate_bmi(weight, height):\n",
    "    height_inches = height * 0.3937\n",
    "    weight_pounds = weight * 2.2046\n",
    "    bmi = (weight_pounds * 703) / (height_inches ** 2)\n",
    "    return bmi\n",
    "\n",
    "\n",
    "def get_bmi_category(bmi):\n",
    "    if bmi < 16:\n",
    "        return \"Severely Thin\"\n",
    "    elif bmi <= 16.9:\n",
    "        return \"Moderately Thin\"\n",
    "    elif bmi <= 18.4:\n",
    "        return \"Mildly Thin\"\n",
    "    elif bmi <= 24.9:\n",
    "        return \"Normal\"\n",
    "    elif bmi <= 29.9:\n",
    "        return \"Overweight\"\n",
    "    elif bmi <= 34.9:\n",
    "        return \"Obese Class I\"\n",
    "    elif bmi <= 39.9:\n",
    "        return \"Obese Class II\"\n",
    "    else:\n",
    "        return \"Obese Class III\"\n",
    "\n",
    "\n",
    "def main():\n",
    "    name = input(\"Enter your name: \")\n",
    "    height = float(input(\"Enter your height in centimeters: \"))\n",
    "    weight = float(input(\"Enter your weight in kilograms: \"))\n",
    "\n",
    "    bmi = calculate_bmi(weight, height)\n",
    "    bmi_category = get_bmi_category(bmi)\n",
    "\n",
    "    print(f\"{name}, your BMI is: {bmi}\")\n",
    "    print(f\"{name}, you are {bmi_category}\")\n",
    "\n",
    "\n",
    "if __name__ == \"__main__\":\n",
    "    main()"
   ]
  }
 ],
 "metadata": {
  "kernelspec": {
   "display_name": "Python 3 (ipykernel)",
   "language": "python",
   "name": "python3"
  },
  "language_info": {
   "codemirror_mode": {
    "name": "ipython",
    "version": 3
   },
   "file_extension": ".py",
   "mimetype": "text/x-python",
   "name": "python",
   "nbconvert_exporter": "python",
   "pygments_lexer": "ipython3",
   "version": "3.11.5"
  }
 },
 "nbformat": 4,
 "nbformat_minor": 5
}
